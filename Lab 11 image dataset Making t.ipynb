{
 "cells": [
  {
   "cell_type": "markdown",
   "id": "63e46d93",
   "metadata": {},
   "source": [
    "# Lab Task 1:\n",
    "\n",
    "Select only two categories:\n",
    "\n",
    "### Category 1: Healthy\n",
    "\n",
    "Use 120 images for training, 30 images for validation, and 12 images for testing.\n",
    "\n",
    "### Category 2: Unhealthy (combine the other three classes)\n",
    "\n",
    "From each of the three remaining classes, select:\n",
    "\n",
    "40 images for training,\n",
    "\n",
    "10 images for validation,\n",
    "\n",
    "4 images for testing.\n"
   ]
  },
  {
   "cell_type": "markdown",
   "id": "e30eae60",
   "metadata": {},
   "source": [
    "# Lab Task for lab practice:\n",
    "\n",
    "### Select two difficult classes:\n",
    "\n",
    "##### Class 1: Cercospora\n",
    "\n",
    "Use 120 images for training, 30 images for validation, and 10 images for testing.\n",
    "\n",
    "##### Class 2: Northern Leaf Blight\n",
    "\n",
    "Use 120 images for training, 30 images for validation, and 10 images for testing."
   ]
  },
  {
   "cell_type": "code",
   "execution_count": 14,
   "id": "6a7e223a",
   "metadata": {},
   "outputs": [],
   "source": [
    "import os, shutil\n",
    "original_dataset_dir = r'E:tasawar\\Electrical Engineering\\8th semester\\Machine learning\\Lab\\archive(4)\\plantvillage dataset\\color'\n",
    "base_dir = r'E:tasawar\\Electrical Engineering\\8th semester\\Machine learning\\Lab\\archive(4)\\computer vision'"
   ]
  },
  {
   "cell_type": "code",
   "execution_count": 15,
   "id": "0f526bc1",
   "metadata": {},
   "outputs": [
    {
     "data": {
      "text/plain": [
       "'E:\\\\Electrical Engineering\\\\8th semester\\\\Machine learning\\\\Lab\\\\archive(4)\\\\computer vision'"
      ]
     },
     "execution_count": 15,
     "metadata": {},
     "output_type": "execute_result"
    }
   ],
   "source": [
    "base_dir"
   ]
  },
  {
   "cell_type": "code",
   "execution_count": 16,
   "id": "40eb92b9",
   "metadata": {},
   "outputs": [
    {
     "data": {
      "text/plain": [
       "'E:\\\\Electrical Engineering\\\\8th semester\\\\Machine learning\\\\Lab\\\\archive(4)\\\\computer vision\\\\train'"
      ]
     },
     "execution_count": 16,
     "metadata": {},
     "output_type": "execute_result"
    }
   ],
   "source": [
    "os.path.join(base_dir, 'train')"
   ]
  },
  {
   "cell_type": "code",
   "execution_count": 17,
   "id": "d3d21196",
   "metadata": {},
   "outputs": [],
   "source": [
    "os.mkdir(base_dir)\n",
    "train_dir = os.path.join(base_dir, 'train')\n",
    "os.mkdir(train_dir)\n",
    "validation_dir = os.path.join(base_dir, 'validation')\n",
    "os.mkdir(validation_dir)\n",
    "test_dir = os.path.join(base_dir, 'test')\n",
    "os.mkdir(test_dir)"
   ]
  },
  {
   "cell_type": "code",
   "execution_count": 18,
   "id": "f8605936",
   "metadata": {},
   "outputs": [],
   "source": [
    "train_Cercospora_dir = os.path.join(train_dir, 'Cercospora')\n",
    "os.mkdir(train_Cercospora_dir)\n",
    "\n",
    "train_northern_leaf_blight_dir = os.path.join(train_dir, 'northern_leaf_blight')\n",
    "os.mkdir(train_northern_leaf_blight_dir)\n",
    "\n",
    "\n",
    "validation_Cercospora_dir = os.path.join(validation_dir, 'Cercospora')\n",
    "os.mkdir(validation_Cercospora_dir)\n",
    "\n",
    "validation_northern_leaf_blight_dir = os.path.join(validation_dir, 'northern_leaf_blight')\n",
    "os.mkdir(validation_northern_leaf_blight_dir)\n",
    "\n",
    "\n",
    "test_Cercospora_dir = os.path.join(test_dir, 'Cercospora')\n",
    "os.mkdir(test_Cercospora_dir)\n",
    "\n",
    "test_northern_leaf_blight_dir = os.path.join(test_dir, 'northern_leaf_blight')\n",
    "os.mkdir(test_northern_leaf_blight_dir)"
   ]
  },
  {
   "cell_type": "markdown",
   "id": "3e161685-4834-410e-ad70-e837cf7cc410",
   "metadata": {},
   "source": [
    "### src_healthy_path = os.path.join(original_dataset_dir, 'Corn_(maize)___healthy')\n",
    "src_list = os.listdir(src_healthy_path)\n",
    "fnames = ['healthy.{}.jpg'.format(i) for i in range(400)]\n",
    "for i in range(400):\n",
    "    src = os.path.join(src_healthy_path, src_list[i])\n",
    "    dst = os.path.join(train_healthy_dir, fnames[i])\n",
    "    shutil.copyfile(src, dst)"
   ]
  },
  {
   "cell_type": "code",
   "execution_count": 19,
   "id": "cd1d532c",
   "metadata": {},
   "outputs": [],
   "source": [
    "\n",
    "\n",
    "src_Cercospora_path = os.path.join(original_dataset_dir, 'Corn_(maize)___Cercospora_leaf_spot Gray_leaf_spot')\n",
    "src_list = os.listdir(src_Cercospora_path)\n",
    "fnames = ['Cercospora.{}.jpg'.format(i) for i in range(120)]\n",
    "for i in range(120):\n",
    "    src = os.path.join(src_Cercospora_path, src_list[i])\n",
    "    dst = os.path.join(train_Cercospora_dir, fnames[i])\n",
    "    shutil.copyfile(src, dst)\n",
    "\n",
    "src_Northern_Leaf_Blight_path = os.path.join(original_dataset_dir, 'Corn_(maize)___Northern_Leaf_Blight')\n",
    "src_list = os.listdir(src_Northern_Leaf_Blight_path)\n",
    "fnames = ['Northern_Leaf_Blight.{}.jpg'.format(i) for i in range(120)]\n",
    "for i in range(120):\n",
    "    src = os.path.join(src_Northern_Leaf_Blight_path, src_list[i])\n",
    "    dst = os.path.join(train_northern_leaf_blight_dir, fnames[i])\n",
    "    shutil.copyfile(src, dst)"
   ]
  },
  {
   "cell_type": "code",
   "execution_count": 20,
   "id": "4ffc2d99",
   "metadata": {},
   "outputs": [],
   "source": [
    "src_Cercospora_path = os.path.join(original_dataset_dir, 'Corn_(maize)___Cercospora_leaf_spot Gray_leaf_spot')\n",
    "src_list = os.listdir(src_Cercospora_path)\n",
    "fnames = ['Cercospora.{}.jpg'.format(i) for i in range(30)]\n",
    "for i in range(400,430):\n",
    "    src = os.path.join(src_Cercospora_path, src_list[i])\n",
    "    dst = os.path.join(validation_Cercospora_dir, fnames[i-400])\n",
    "    shutil.copyfile(src, dst)\n",
    "\n",
    "\n",
    "src_Northern_Leaf_Blight_path = os.path.join(original_dataset_dir, 'Corn_(maize)___Northern_Leaf_Blight')\n",
    "src_list = os.listdir(src_Northern_Leaf_Blight_path)\n",
    "fnames = ['Northern_Leaf_Blight.{}.jpg'.format(i) for i in range(63)]\n",
    "for i in range(400,463):\n",
    "    src = os.path.join(src_Northern_Leaf_Blight_path, src_list[i])\n",
    "    dst = os.path.join(validation_northern_leaf_blight_dir, fnames[i-400])\n",
    "    shutil.copyfile(src, dst)"
   ]
  },
  {
   "cell_type": "markdown",
   "id": "dea85e57",
   "metadata": {},
   "source": [
    "# Test"
   ]
  },
  {
   "cell_type": "code",
   "execution_count": 21,
   "id": "ad0aabd4",
   "metadata": {},
   "outputs": [],
   "source": [
    "\n",
    "\n",
    "src_Cercospora_path = os.path.join(original_dataset_dir, 'Corn_(maize)___Cercospora_leaf_spot Gray_leaf_spot')\n",
    "src_list = os.listdir(src_Cercospora_path)\n",
    "fnames = ['Cercospora.{}.jpg'.format(i) for i in range(10)]\n",
    "for i in range(463,473):\n",
    "    src = os.path.join(src_Cercospora_path, src_list[i])\n",
    "    dst = os.path.join(test_Cercospora_dir, fnames[i-463])\n",
    "    shutil.copyfile(src, dst)\n",
    "\n",
    "\n",
    "src_Northern_Leaf_Blight_path = os.path.join(original_dataset_dir, 'Corn_(maize)___Northern_Leaf_Blight')\n",
    "src_list = os.listdir(src_Northern_Leaf_Blight_path)\n",
    "fnames = ['Northern_Leaf_Blight.{}.jpg'.format(i) for i in range(10)]\n",
    "for i in range(463,473):\n",
    "    src = os.path.join(src_Northern_Leaf_Blight_path, src_list[i])\n",
    "    dst = os.path.join(test_northern_leaf_blight_dir, fnames[i-463])\n",
    "    shutil.copyfile(src, dst)"
   ]
  },
  {
   "cell_type": "code",
   "execution_count": null,
   "id": "210f978a",
   "metadata": {},
   "outputs": [],
   "source": []
  },
  {
   "cell_type": "code",
   "execution_count": null,
   "id": "d9c9d2b2-8b2a-410b-a344-7dfc7e8a7d14",
   "metadata": {},
   "outputs": [],
   "source": []
  }
 ],
 "metadata": {
  "kernelspec": {
   "display_name": "Python [conda env:base] *",
   "language": "python",
   "name": "conda-base-py"
  },
  "language_info": {
   "codemirror_mode": {
    "name": "ipython",
    "version": 3
   },
   "file_extension": ".py",
   "mimetype": "text/x-python",
   "name": "python",
   "nbconvert_exporter": "python",
   "pygments_lexer": "ipython3",
   "version": "3.13.5"
  }
 },
 "nbformat": 4,
 "nbformat_minor": 5
}
