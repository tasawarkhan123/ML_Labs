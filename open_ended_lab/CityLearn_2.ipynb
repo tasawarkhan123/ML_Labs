{
 "cells": [
  {
   "cell_type": "code",
   "execution_count": 1,
   "id": "c4c67da0",
   "metadata": {},
   "outputs": [],
   "source": [
    "import sys\n",
    "sys.path.append(r\"G:\\8TH SEMESTER\\CityLearn_ML\")"
   ]
  },
  {
   "cell_type": "code",
   "execution_count": 2,
   "id": "d52671ba",
   "metadata": {},
   "outputs": [],
   "source": [
    "from timeseires.utils import t_v_t_split as sp\n",
    "import numpy as np\n",
    "import pandas as pd\n",
    "from pandas import read_csv\n",
    "import pickle\n",
    "from sklearn.preprocessing import MinMaxScaler, StandardScaler\n",
    "from sklearn.preprocessing import OneHotEncoder\n",
    "import sys"
   ]
  },
  {
   "cell_type": "code",
   "execution_count": 3,
   "id": "6db694b1",
   "metadata": {},
   "outputs": [
    {
     "name": "stdout",
     "output_type": "stream",
     "text": [
      "Data shape: (8760, 26)\n"
     ]
    }
   ],
   "source": [
    "df = pd.read_csv(r'G:\\8TH SEMESTER\\CityLearn_ML\\Dataset\\cleaned_citylearn_data_all_outliers_handled.csv')\n",
    "print(f\"Data shape: {df.shape}\")"
   ]
  },
  {
   "cell_type": "code",
   "execution_count": 4,
   "id": "c7581bbd",
   "metadata": {},
   "outputs": [
    {
     "data": {
      "text/html": [
       "<div>\n",
       "<style scoped>\n",
       "    .dataframe tbody tr th:only-of-type {\n",
       "        vertical-align: middle;\n",
       "    }\n",
       "\n",
       "    .dataframe tbody tr th {\n",
       "        vertical-align: top;\n",
       "    }\n",
       "\n",
       "    .dataframe thead th {\n",
       "        text-align: right;\n",
       "    }\n",
       "</style>\n",
       "<table border=\"1\" class=\"dataframe\">\n",
       "  <thead>\n",
       "    <tr style=\"text-align: right;\">\n",
       "      <th></th>\n",
       "      <th>non_shiftable_load</th>\n",
       "      <th>outdoor_dry_bulb_temperature_predicted_1</th>\n",
       "      <th>outdoor_dry_bulb_temperature_predicted_2</th>\n",
       "      <th>outdoor_dry_bulb_temperature_predicted_3</th>\n",
       "      <th>outdoor_relative_humidity_predicted_1</th>\n",
       "      <th>outdoor_relative_humidity_predicted_2</th>\n",
       "      <th>outdoor_relative_humidity_predicted_3</th>\n",
       "      <th>diffuse_solar_irradiance_predicted_1</th>\n",
       "      <th>diffuse_solar_irradiance_predicted_2</th>\n",
       "      <th>diffuse_solar_irradiance_predicted_3</th>\n",
       "      <th>...</th>\n",
       "      <th>hour</th>\n",
       "      <th>day_type</th>\n",
       "      <th>electricity_pricing</th>\n",
       "      <th>outdoor_dry_bulb_temperature</th>\n",
       "      <th>solar_generation</th>\n",
       "      <th>carbon_intensity</th>\n",
       "      <th>outdoor_relative_humidity</th>\n",
       "      <th>diffuse_solar_irradiance</th>\n",
       "      <th>direct_solar_irradiance</th>\n",
       "      <th>month</th>\n",
       "    </tr>\n",
       "  </thead>\n",
       "  <tbody>\n",
       "    <tr>\n",
       "      <th>0</th>\n",
       "      <td>2.188750</td>\n",
       "      <td>18.3</td>\n",
       "      <td>22.8</td>\n",
       "      <td>20.0</td>\n",
       "      <td>81.0</td>\n",
       "      <td>68.0</td>\n",
       "      <td>81.0</td>\n",
       "      <td>25.0</td>\n",
       "      <td>683.0</td>\n",
       "      <td>0.0</td>\n",
       "      <td>...</td>\n",
       "      <td>24</td>\n",
       "      <td>7</td>\n",
       "      <td>0.22</td>\n",
       "      <td>20.0</td>\n",
       "      <td>0.0</td>\n",
       "      <td>0.170724</td>\n",
       "      <td>84.0</td>\n",
       "      <td>0.0</td>\n",
       "      <td>0.0</td>\n",
       "      <td>7</td>\n",
       "    </tr>\n",
       "    <tr>\n",
       "      <th>1</th>\n",
       "      <td>1.370667</td>\n",
       "      <td>19.4</td>\n",
       "      <td>22.8</td>\n",
       "      <td>19.4</td>\n",
       "      <td>79.0</td>\n",
       "      <td>71.0</td>\n",
       "      <td>87.0</td>\n",
       "      <td>201.0</td>\n",
       "      <td>683.0</td>\n",
       "      <td>0.0</td>\n",
       "      <td>...</td>\n",
       "      <td>1</td>\n",
       "      <td>1</td>\n",
       "      <td>0.22</td>\n",
       "      <td>20.1</td>\n",
       "      <td>0.0</td>\n",
       "      <td>0.157319</td>\n",
       "      <td>79.0</td>\n",
       "      <td>0.0</td>\n",
       "      <td>0.0</td>\n",
       "      <td>8</td>\n",
       "    </tr>\n",
       "    <tr>\n",
       "      <th>2</th>\n",
       "      <td>1.101250</td>\n",
       "      <td>21.1</td>\n",
       "      <td>22.2</td>\n",
       "      <td>19.4</td>\n",
       "      <td>73.0</td>\n",
       "      <td>73.0</td>\n",
       "      <td>87.0</td>\n",
       "      <td>420.0</td>\n",
       "      <td>683.0</td>\n",
       "      <td>0.0</td>\n",
       "      <td>...</td>\n",
       "      <td>2</td>\n",
       "      <td>1</td>\n",
       "      <td>0.22</td>\n",
       "      <td>19.7</td>\n",
       "      <td>0.0</td>\n",
       "      <td>0.154503</td>\n",
       "      <td>78.0</td>\n",
       "      <td>0.0</td>\n",
       "      <td>0.0</td>\n",
       "      <td>8</td>\n",
       "    </tr>\n",
       "    <tr>\n",
       "      <th>3</th>\n",
       "      <td>0.543217</td>\n",
       "      <td>22.2</td>\n",
       "      <td>22.8</td>\n",
       "      <td>19.4</td>\n",
       "      <td>71.0</td>\n",
       "      <td>71.0</td>\n",
       "      <td>90.0</td>\n",
       "      <td>554.0</td>\n",
       "      <td>522.0</td>\n",
       "      <td>0.0</td>\n",
       "      <td>...</td>\n",
       "      <td>3</td>\n",
       "      <td>1</td>\n",
       "      <td>0.22</td>\n",
       "      <td>19.3</td>\n",
       "      <td>0.0</td>\n",
       "      <td>0.150945</td>\n",
       "      <td>78.0</td>\n",
       "      <td>0.0</td>\n",
       "      <td>0.0</td>\n",
       "      <td>8</td>\n",
       "    </tr>\n",
       "    <tr>\n",
       "      <th>4</th>\n",
       "      <td>0.542833</td>\n",
       "      <td>21.7</td>\n",
       "      <td>22.2</td>\n",
       "      <td>18.9</td>\n",
       "      <td>73.0</td>\n",
       "      <td>71.0</td>\n",
       "      <td>90.0</td>\n",
       "      <td>778.0</td>\n",
       "      <td>444.0</td>\n",
       "      <td>0.0</td>\n",
       "      <td>...</td>\n",
       "      <td>4</td>\n",
       "      <td>1</td>\n",
       "      <td>0.22</td>\n",
       "      <td>18.9</td>\n",
       "      <td>0.0</td>\n",
       "      <td>0.151820</td>\n",
       "      <td>78.0</td>\n",
       "      <td>0.0</td>\n",
       "      <td>0.0</td>\n",
       "      <td>8</td>\n",
       "    </tr>\n",
       "  </tbody>\n",
       "</table>\n",
       "<p>5 rows × 26 columns</p>\n",
       "</div>"
      ],
      "text/plain": [
       "   non_shiftable_load  outdoor_dry_bulb_temperature_predicted_1  \\\n",
       "0            2.188750                                      18.3   \n",
       "1            1.370667                                      19.4   \n",
       "2            1.101250                                      21.1   \n",
       "3            0.543217                                      22.2   \n",
       "4            0.542833                                      21.7   \n",
       "\n",
       "   outdoor_dry_bulb_temperature_predicted_2  \\\n",
       "0                                      22.8   \n",
       "1                                      22.8   \n",
       "2                                      22.2   \n",
       "3                                      22.8   \n",
       "4                                      22.2   \n",
       "\n",
       "   outdoor_dry_bulb_temperature_predicted_3  \\\n",
       "0                                      20.0   \n",
       "1                                      19.4   \n",
       "2                                      19.4   \n",
       "3                                      19.4   \n",
       "4                                      18.9   \n",
       "\n",
       "   outdoor_relative_humidity_predicted_1  \\\n",
       "0                                   81.0   \n",
       "1                                   79.0   \n",
       "2                                   73.0   \n",
       "3                                   71.0   \n",
       "4                                   73.0   \n",
       "\n",
       "   outdoor_relative_humidity_predicted_2  \\\n",
       "0                                   68.0   \n",
       "1                                   71.0   \n",
       "2                                   73.0   \n",
       "3                                   71.0   \n",
       "4                                   71.0   \n",
       "\n",
       "   outdoor_relative_humidity_predicted_3  \\\n",
       "0                                   81.0   \n",
       "1                                   87.0   \n",
       "2                                   87.0   \n",
       "3                                   90.0   \n",
       "4                                   90.0   \n",
       "\n",
       "   diffuse_solar_irradiance_predicted_1  diffuse_solar_irradiance_predicted_2  \\\n",
       "0                                  25.0                                 683.0   \n",
       "1                                 201.0                                 683.0   \n",
       "2                                 420.0                                 683.0   \n",
       "3                                 554.0                                 522.0   \n",
       "4                                 778.0                                 444.0   \n",
       "\n",
       "   diffuse_solar_irradiance_predicted_3  ...  hour  day_type  \\\n",
       "0                                   0.0  ...    24         7   \n",
       "1                                   0.0  ...     1         1   \n",
       "2                                   0.0  ...     2         1   \n",
       "3                                   0.0  ...     3         1   \n",
       "4                                   0.0  ...     4         1   \n",
       "\n",
       "   electricity_pricing  outdoor_dry_bulb_temperature  solar_generation  \\\n",
       "0                 0.22                          20.0               0.0   \n",
       "1                 0.22                          20.1               0.0   \n",
       "2                 0.22                          19.7               0.0   \n",
       "3                 0.22                          19.3               0.0   \n",
       "4                 0.22                          18.9               0.0   \n",
       "\n",
       "   carbon_intensity  outdoor_relative_humidity  diffuse_solar_irradiance  \\\n",
       "0          0.170724                       84.0                       0.0   \n",
       "1          0.157319                       79.0                       0.0   \n",
       "2          0.154503                       78.0                       0.0   \n",
       "3          0.150945                       78.0                       0.0   \n",
       "4          0.151820                       78.0                       0.0   \n",
       "\n",
       "   direct_solar_irradiance  month  \n",
       "0                      0.0      7  \n",
       "1                      0.0      8  \n",
       "2                      0.0      8  \n",
       "3                      0.0      8  \n",
       "4                      0.0      8  \n",
       "\n",
       "[5 rows x 26 columns]"
      ]
     },
     "execution_count": 4,
     "metadata": {},
     "output_type": "execute_result"
    }
   ],
   "source": [
    "df.head()"
   ]
  },
  {
   "cell_type": "code",
   "execution_count": 5,
   "id": "ce9daf67",
   "metadata": {},
   "outputs": [],
   "source": [
    "train_set, validation_set, test_set = sp.t_v_t(df, 70, 20, 10)"
   ]
  },
  {
   "cell_type": "code",
   "execution_count": 7,
   "id": "03c85ea4",
   "metadata": {},
   "outputs": [
    {
     "data": {
      "text/plain": [
       "(876, 26)"
      ]
     },
     "execution_count": 7,
     "metadata": {},
     "output_type": "execute_result"
    }
   ],
   "source": [
    "train_set.shape\n"
   ]
  },
  {
   "cell_type": "code",
   "execution_count": 8,
   "id": "73cf0fd7",
   "metadata": {},
   "outputs": [
    {
     "data": {
      "text/plain": [
       "(1752, 26)"
      ]
     },
     "execution_count": 8,
     "metadata": {},
     "output_type": "execute_result"
    }
   ],
   "source": [
    "validation_set.shape"
   ]
  },
  {
   "cell_type": "code",
   "execution_count": 9,
   "id": "773be1a0",
   "metadata": {},
   "outputs": [
    {
     "data": {
      "text/plain": [
       "(876, 26)"
      ]
     },
     "execution_count": 9,
     "metadata": {},
     "output_type": "execute_result"
    }
   ],
   "source": [
    "test_set.shape"
   ]
  },
  {
   "cell_type": "code",
   "execution_count": 10,
   "id": "8caf1e46",
   "metadata": {},
   "outputs": [],
   "source": [
    "data_path = r'G:\\8TH SEMESTER\\CityLearn_ML\\Dataset\\cleaned_citylearn_data_all_outliers_handled.csv'\n",
    "df = pd.read_csv(data_path)"
   ]
  },
  {
   "cell_type": "code",
   "execution_count": 11,
   "id": "7535255f",
   "metadata": {},
   "outputs": [
    {
     "name": "stdout",
     "output_type": "stream",
     "text": [
      "No 'datetime' column found. Please ensure temporal features exist.\n"
     ]
    }
   ],
   "source": [
    "# Extract datetime features if 'datetime' exists\n",
    "if 'datetime' in df.columns:\n",
    "    df['datetime'] = pd.to_datetime(df['datetime'])\n",
    "    df['month'] = df['datetime'].dt.month\n",
    "    df['hour'] = df['datetime'].dt.hour\n",
    "    df['day_type'] = df['datetime'].dt.dayofweek  # Monday=0, Sunday=6\n",
    "else:\n",
    "    print(\"No 'datetime' column found. Please ensure temporal features exist.\")"
   ]
  },
  {
   "cell_type": "code",
   "execution_count": 12,
   "id": "d23ec578",
   "metadata": {},
   "outputs": [],
   "source": [
    "def split_train_val_test(df, train_percent, val_percent, test_percent, random_state=42):\n",
    "    assert train_percent + val_percent + test_percent == 100, \"Percents must sum to 100\"\n",
    "    \n",
    "    df = df.sample(frac=1, random_state=random_state).reset_index(drop=True)  # shuffle\n",
    "    n = len(df)\n",
    "    train_end = int(train_percent / 100 * n)\n",
    "    val_end = train_end + int(val_percent / 100 * n)\n",
    "    \n",
    "    train_set = df.iloc[:train_end]\n",
    "    val_set = df.iloc[train_end:val_end]\n",
    "    test_set = df.iloc[val_end:]\n",
    "    \n",
    "    return train_set, val_set, test_set\n",
    "\n",
    "# Split dataset\n",
    "train_set, validation_set, test_set = split_train_val_test(df, 70, 20, 10)"
   ]
  },
  {
   "cell_type": "code",
   "execution_count": 13,
   "id": "f9cfe310",
   "metadata": {},
   "outputs": [],
   "source": [
    "def cyclical_encode(df, column, max_val):\n",
    "    df[f'{column}_sin'] = np.sin(2 * np.pi * df[column] / max_val)\n",
    "    df[f'{column}_cos'] = np.cos(2 * np.pi * df[column] / max_val)\n",
    "    return df\n",
    "\n",
    "for dataset in [train_set, validation_set, test_set]:\n",
    "    for col, max_val in [('month', 12), ('hour', 24), ('day_type', 7)]:\n",
    "        if col in dataset.columns:\n",
    "            cyclical_encode(dataset, col, max_val)\n",
    "    # Drop original columns after encoding\n",
    "    dataset.drop(columns=['month', 'hour', 'day_type'], errors='ignore', inplace=True)\n"
   ]
  },
  {
   "cell_type": "code",
   "execution_count": 14,
   "id": "13de38bd",
   "metadata": {},
   "outputs": [],
   "source": [
    "weather_features = [\n",
    "    'outdoor_dry_bulb_temperature', 'outdoor_dry_bulb_temperature_predicted_1', 'outdoor_dry_bulb_temperature_predicted_2', 'outdoor_dry_bulb_temperature_predicted_3',\n",
    "    'outdoor_relative_humidity', 'outdoor_relative_humidity_predicted_1', 'outdoor_relative_humidity_predicted_2', 'outdoor_relative_humidity_predicted_3',\n",
    "    'diffuse_solar_irradiance', 'diffuse_solar_irradiance_predicted_1', 'diffuse_solar_irradiance_predicted_2', 'diffuse_solar_irradiance_predicted_3',\n",
    "    'direct_solar_irradiance', 'direct_solar_irradiance_predicted_1', 'direct_solar_irradiance_predicted_2', 'direct_solar_irradiance_predicted_3'\n",
    "]\n",
    "\n",
    "econ_env_features = [\n",
    "    'non_shiftable_load',\n",
    "    'electricity_pricing', 'electricity_pricing_predicted_1', 'electricity_pricing_predicted_2', 'electricity_pricing_predicted_3',\n",
    "    'solar_generation',\n",
    "    'carbon_intensity'\n",
    "]\n",
    "\n",
    "# Filter features that exist in train set to avoid errors\n",
    "weather_features = [f for f in weather_features if f in train_set.columns]\n",
    "econ_env_features = [f for f in econ_env_features if f in train_set.columns]\n"
   ]
  },
  {
   "cell_type": "code",
   "execution_count": 15,
   "id": "4ee4ef1c",
   "metadata": {},
   "outputs": [],
   "source": [
    "# StandardScaler for weather features\n",
    "weather_scaler = StandardScaler()\n",
    "train_set[weather_features] = weather_scaler.fit_transform(train_set[weather_features])\n",
    "validation_set[weather_features] = weather_scaler.transform(validation_set[weather_features])\n",
    "test_set[weather_features] = weather_scaler.transform(test_set[weather_features])\n",
    "\n",
    "# MinMaxScaler for economic/environmental features\n",
    "econ_env_scaler = MinMaxScaler()\n",
    "train_set[econ_env_features] = econ_env_scaler.fit_transform(train_set[econ_env_features])\n",
    "validation_set[econ_env_features] = econ_env_scaler.transform(validation_set[econ_env_features])\n",
    "test_set[econ_env_features] = econ_env_scaler.transform(test_set[econ_env_features])\n"
   ]
  },
  {
   "cell_type": "code",
   "execution_count": 16,
   "id": "8b241bba",
   "metadata": {},
   "outputs": [
    {
     "name": "stdout",
     "output_type": "stream",
     "text": [
      "Normalized train, validation, and test datasets saved successfully.\n"
     ]
    }
   ],
   "source": [
    "save_path = r'G:\\8TH SEMESTER\\CityLearn_ML\\Dataset_1'\n",
    "\n",
    "train_set.to_csv(f'{save_path}\\\\CityLearn_train.csv', index=False)\n",
    "validation_set.to_csv(f'{save_path}\\\\CityLearn_validation.csv', index=False)\n",
    "test_set.to_csv(f'{save_path}\\\\CityLearn_test.csv', index=False)\n",
    "\n",
    "print(\"Normalized train, validation, and test datasets saved successfully.\")\n"
   ]
  },
  {
   "cell_type": "code",
   "execution_count": 20,
   "id": "0e24210b",
   "metadata": {},
   "outputs": [],
   "source": [
    "import pickle\n",
    "import os"
   ]
  },
  {
   "cell_type": "code",
   "execution_count": 21,
   "id": "b2748e29",
   "metadata": {},
   "outputs": [
    {
     "name": "stdout",
     "output_type": "stream",
     "text": [
      "Scaler saved successfully at: G:\\8TH SEMESTER\\CityLearn_ML\\Dataset_1\\scaler.pkl\n"
     ]
    }
   ],
   "source": [
    "input_path = r'G:\\8TH SEMESTER\\MACHINE_LEARNING(T+L)\\LAB_ML\\OPENEND_LAB\\DATASET\\cleaned_non_shiftable_load_v2.csv'\n",
    "output_dir = r'G:\\8TH SEMESTER\\CityLearn_ML\\Dataset_1'\n",
    "scaler_path = os.path.join(output_dir, 'scaler.pkl')\n",
    "\n",
    "# Load dataset\n",
    "df = pd.read_csv(input_path)\n",
    "\n",
    "# Split dataset\n",
    "def split_data(df, train_ratio=0.7, val_ratio=0.2, test_ratio=0.1):\n",
    "    total = len(df)\n",
    "    train_end = int(total * train_ratio)\n",
    "    val_end = train_end + int(total * val_ratio)\n",
    "    return df.iloc[:train_end], df.iloc[train_end:val_end], df.iloc[val_end:]\n",
    "\n",
    "train_df, val_df, test_df = split_data(df)\n",
    "\n",
    "# Fit scaler on 'non_shiftable_load'\n",
    "scaler = MinMaxScaler()\n",
    "scaler.fit(train_df[['non_shiftable_load']])\n",
    "\n",
    "# Save scaler using pickle\n",
    "with open(scaler_path, 'wb') as f:\n",
    "    pickle.dump(scaler, f)\n",
    "\n",
    "print(f\"Scaler saved successfully at: {scaler_path}\")"
   ]
  },
  {
   "cell_type": "code",
   "execution_count": null,
   "id": "a69852d7",
   "metadata": {},
   "outputs": [],
   "source": []
  }
 ],
 "metadata": {
  "kernelspec": {
   "display_name": "Python 3 (ipykernel)",
   "language": "python",
   "name": "python3"
  },
  "language_info": {
   "codemirror_mode": {
    "name": "ipython",
    "version": 3
   },
   "file_extension": ".py",
   "mimetype": "text/x-python",
   "name": "python",
   "nbconvert_exporter": "python",
   "pygments_lexer": "ipython3",
   "version": "3.7.16"
  }
 },
 "nbformat": 4,
 "nbformat_minor": 5
}
